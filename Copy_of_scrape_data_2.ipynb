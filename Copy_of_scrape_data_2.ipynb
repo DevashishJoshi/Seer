{
  "nbformat": 4,
  "nbformat_minor": 0,
  "metadata": {
    "colab": {
      "name": "Copy of scrape data 2.ipynb",
      "version": "0.3.2",
      "provenance": [],
      "collapsed_sections": []
    },
    "kernelspec": {
      "name": "python3",
      "display_name": "Python 3"
    },
    "accelerator": "GPU"
  },
  "cells": [
    {
      "metadata": {
        "id": "GRvAN7geRjHm",
        "colab_type": "code",
        "outputId": "94fafbd0-fa48-47d5-e8f2-f7e16d54da09",
        "colab": {
          "base_uri": "https://localhost:8080/",
          "height": 53
        }
      },
      "cell_type": "code",
      "source": [
        "!pwd\n",
        "!ls"
      ],
      "execution_count": 1,
      "outputs": [
        {
          "output_type": "stream",
          "text": [
            "/content\n",
            "sample_data\n"
          ],
          "name": "stdout"
        }
      ]
    },
    {
      "metadata": {
        "id": "t9F6Q3oxRuR6",
        "colab_type": "code",
        "colab": {
          "base_uri": "https://localhost:8080/",
          "height": 127
        },
        "outputId": "7c91efe3-1449-477c-ed9e-99f43b442ed4"
      },
      "cell_type": "code",
      "source": [
        "from google.colab import drive\n",
        "drive.mount('/content/drive')"
      ],
      "execution_count": 2,
      "outputs": [
        {
          "output_type": "stream",
          "text": [
            "Go to this URL in a browser: https://accounts.google.com/o/oauth2/auth?client_id=947318989803-6bn6qk8qdgf4n4g3pfee6491hc0brc4i.apps.googleusercontent.com&redirect_uri=urn%3Aietf%3Awg%3Aoauth%3A2.0%3Aoob&scope=email%20https%3A%2F%2Fwww.googleapis.com%2Fauth%2Fdocs.test%20https%3A%2F%2Fwww.googleapis.com%2Fauth%2Fdrive%20https%3A%2F%2Fwww.googleapis.com%2Fauth%2Fdrive.photos.readonly%20https%3A%2F%2Fwww.googleapis.com%2Fauth%2Fpeopleapi.readonly&response_type=code\n",
            "\n",
            "Enter your authorization code:\n",
            "··········\n",
            "Mounted at /content/drive\n"
          ],
          "name": "stdout"
        }
      ]
    },
    {
      "metadata": {
        "id": "hLS4Hlw3Rvxe",
        "colab_type": "code",
        "colab": {
          "base_uri": "https://localhost:8080/",
          "height": 35
        },
        "outputId": "c417156e-b502-4105-b7df-466cfc90d604"
      },
      "cell_type": "code",
      "source": [
        "%cd /content/drive/'My Drive'/mumbai_hackathon_seer"
      ],
      "execution_count": 3,
      "outputs": [
        {
          "output_type": "stream",
          "text": [
            "/content/drive/My Drive/mumbai_hackathon_seer\n"
          ],
          "name": "stdout"
        }
      ]
    },
    {
      "metadata": {
        "id": "p2odB0EkRxnj",
        "colab_type": "code",
        "colab": {
          "base_uri": "https://localhost:8080/",
          "height": 145
        },
        "outputId": "f5d416e9-1626-4e3b-f71e-68450eae16ce"
      },
      "cell_type": "code",
      "source": [
        "!pip install selenium"
      ],
      "execution_count": 4,
      "outputs": [
        {
          "output_type": "stream",
          "text": [
            "Collecting selenium\n",
            "\u001b[?25l  Downloading https://files.pythonhosted.org/packages/80/d6/4294f0b4bce4de0abf13e17190289f9d0613b0a44e5dd6a7f5ca98459853/selenium-3.141.0-py2.py3-none-any.whl (904kB)\n",
            "\u001b[K    100% |████████████████████████████████| 911kB 9.3MB/s \n",
            "\u001b[?25hRequirement already satisfied: urllib3 in /usr/local/lib/python3.6/dist-packages (from selenium) (1.22)\n",
            "Installing collected packages: selenium\n",
            "Successfully installed selenium-3.141.0\n"
          ],
          "name": "stdout"
        }
      ]
    },
    {
      "metadata": {
        "id": "BOwOZN88WSJL",
        "colab_type": "code",
        "colab": {
          "base_uri": "https://localhost:8080/",
          "height": 829
        },
        "outputId": "766eef0d-3ebb-4abb-8649-dc03868888b7"
      },
      "cell_type": "code",
      "source": [
        "!apt install chromium-chromedriver\n",
        "!cp /usr/lib/chromium-browser/chromedriver /usr/bin\n",
        "import sys\n",
        "sys.path.insert(0,'/usr/lib/chromium-browser/chromedriver')"
      ],
      "execution_count": 5,
      "outputs": [
        {
          "output_type": "stream",
          "text": [
            "Reading package lists... Done\n",
            "Building dependency tree       \n",
            "Reading state information... Done\n",
            "The following package was automatically installed and is no longer required:\n",
            "  libnvidia-common-410\n",
            "Use 'apt autoremove' to remove it.\n",
            "The following additional packages will be installed:\n",
            "  chromium-browser chromium-browser-l10n chromium-codecs-ffmpeg-extra\n",
            "Suggested packages:\n",
            "  webaccounts-chromium-extension unity-chromium-extension adobe-flashplugin\n",
            "The following NEW packages will be installed:\n",
            "  chromium-browser chromium-browser-l10n chromium-chromedriver\n",
            "  chromium-codecs-ffmpeg-extra\n",
            "0 upgraded, 4 newly installed, 0 to remove and 10 not upgraded.\n",
            "Need to get 66.2 MB of archives.\n",
            "After this operation, 244 MB of additional disk space will be used.\n",
            "Get:1 http://archive.ubuntu.com/ubuntu bionic-updates/universe amd64 chromium-codecs-ffmpeg-extra amd64 72.0.3626.121-0ubuntu0.18.04.1 [1,106 kB]\n",
            "Get:2 http://archive.ubuntu.com/ubuntu bionic-updates/universe amd64 chromium-browser amd64 72.0.3626.121-0ubuntu0.18.04.1 [58.0 MB]\n",
            "Get:3 http://archive.ubuntu.com/ubuntu bionic-updates/universe amd64 chromium-browser-l10n all 72.0.3626.121-0ubuntu0.18.04.1 [2,769 kB]\n",
            "Get:4 http://archive.ubuntu.com/ubuntu bionic-updates/universe amd64 chromium-chromedriver amd64 72.0.3626.121-0ubuntu0.18.04.1 [4,311 kB]\n",
            "Fetched 66.2 MB in 3s (20.2 MB/s)\n",
            "Selecting previously unselected package chromium-codecs-ffmpeg-extra.\n",
            "(Reading database ... 131323 files and directories currently installed.)\n",
            "Preparing to unpack .../chromium-codecs-ffmpeg-extra_72.0.3626.121-0ubuntu0.18.04.1_amd64.deb ...\n",
            "Unpacking chromium-codecs-ffmpeg-extra (72.0.3626.121-0ubuntu0.18.04.1) ...\n",
            "Selecting previously unselected package chromium-browser.\n",
            "Preparing to unpack .../chromium-browser_72.0.3626.121-0ubuntu0.18.04.1_amd64.deb ...\n",
            "Unpacking chromium-browser (72.0.3626.121-0ubuntu0.18.04.1) ...\n",
            "Selecting previously unselected package chromium-browser-l10n.\n",
            "Preparing to unpack .../chromium-browser-l10n_72.0.3626.121-0ubuntu0.18.04.1_all.deb ...\n",
            "Unpacking chromium-browser-l10n (72.0.3626.121-0ubuntu0.18.04.1) ...\n",
            "Selecting previously unselected package chromium-chromedriver.\n",
            "Preparing to unpack .../chromium-chromedriver_72.0.3626.121-0ubuntu0.18.04.1_amd64.deb ...\n",
            "Unpacking chromium-chromedriver (72.0.3626.121-0ubuntu0.18.04.1) ...\n",
            "Processing triggers for mime-support (3.60ubuntu1) ...\n",
            "Setting up chromium-codecs-ffmpeg-extra (72.0.3626.121-0ubuntu0.18.04.1) ...\n",
            "Processing triggers for man-db (2.8.3-2ubuntu0.1) ...\n",
            "Processing triggers for hicolor-icon-theme (0.17-2) ...\n",
            "Setting up chromium-browser (72.0.3626.121-0ubuntu0.18.04.1) ...\n",
            "update-alternatives: using /usr/bin/chromium-browser to provide /usr/bin/x-www-browser (x-www-browser) in auto mode\n",
            "update-alternatives: using /usr/bin/chromium-browser to provide /usr/bin/gnome-www-browser (gnome-www-browser) in auto mode\n",
            "Setting up chromium-chromedriver (72.0.3626.121-0ubuntu0.18.04.1) ...\n",
            "Setting up chromium-browser-l10n (72.0.3626.121-0ubuntu0.18.04.1) ...\n",
            "cp: cannot stat '/usr/lib/chromium-browser/chromedriver': No such file or directory\n"
          ],
          "name": "stdout"
        }
      ]
    },
    {
      "metadata": {
        "id": "8ODT3UXjc0q_",
        "colab_type": "code",
        "colab": {}
      },
      "cell_type": "code",
      "source": [
        "from bs4 import BeautifulSoup\n",
        "import urllib\n",
        "\n",
        "url = \"https://developers.whatismybrowser.com/useragents/explore/software_name/chrome/\"\n",
        "content = urllib.request.urlopen(url).read()\n",
        "soup = BeautifulSoup(content)\n",
        "\n",
        "links = soup.find_all('a', href=True)[16:]\n",
        "agents = []\n",
        "for link in links:\n",
        "  agents.append(link.text)"
      ],
      "execution_count": 0,
      "outputs": []
    },
    {
      "metadata": {
        "id": "N_kwSiR0WrFE",
        "colab_type": "code",
        "colab": {}
      },
      "cell_type": "code",
      "source": [
        "import random\n",
        "\n",
        "from selenium import webdriver\n",
        "import pandas as pd\n",
        "from PIL import Image\n",
        "import urllib\n",
        "import csv\n",
        "\n",
        "def getUrlData(product_url, count):\n",
        "  df = pd.DataFrame(columns = ['title', 'url', 'price', 'image_url', 'image_name', 'gender', 'dress_type'])\n",
        "  chrome_options = webdriver.ChromeOptions()\n",
        "  chrome_options.add_argument('--headless')\n",
        "  chrome_options.add_argument('--no-sandbox')\n",
        "  chrome_options.add_argument('--disable-dev-shm-usage')\n",
        "  #chrome_options.add_argument('user-agent='+str(agents[random.randrange(len(agents))]))\n",
        "  wd = webdriver.Chrome('chromedriver',chrome_options=chrome_options)\n",
        "  #frame = wd.find_element_by_xpath(\"//frame[@name='main']\")\n",
        "  #wd.switch_to.frame(frame)\n",
        "  wd.get(product_url)\n",
        "\n",
        "  #print(wd.page_source)\n",
        "  \n",
        "  #product_title\n",
        "  element = wd.find_element_by_id('productTitle')\n",
        "  product_title = element.text\n",
        "\n",
        "  #product_price\n",
        "  \n",
        "  element = wd.find_element_by_id('priceblock_ourprice')\n",
        "  product_price = element.text.split()[0]\n",
        "\n",
        "  #image_url and image_name\n",
        "  element = wd.find_element_by_id('landingImage')\n",
        "  image_url = element.get_attribute(\"src\") \n",
        "  img = Image.open(urllib.request.urlopen(image_url))\n",
        "  image_name = str(count) + '.jpg';\n",
        "  img.save('image/' + image_name)\n",
        "\n",
        "  #gender and dress_type\n",
        "  element = wd.find_element_by_id('wayfinding-breadcrumbs_feature_div')\n",
        "  breadcrumbs = element.text\n",
        "  breadcrumbs = breadcrumbs.splitlines()\n",
        "  gender = breadcrumbs[2].lower()\n",
        "  dress_type = breadcrumbs[4].lower()\n",
        "\n",
        "  raw_data = [product_title, product_url, product_price, image_url, image_name, gender, dress_type]\n",
        "  \n",
        "  with open('example.csv','a') as fd:\n",
        "    writer = csv.writer(fd, delimiter=',')\n",
        "    writer.writerow(raw_data)\n",
        "\n",
        "  #print('All DONE!')\n",
        "  return df"
      ],
      "execution_count": 0,
      "outputs": []
    },
    {
      "metadata": {
        "id": "K-GcAXk7RWtH",
        "colab_type": "code",
        "outputId": "cf0c2de3-2b59-4f26-e46c-a52412059f14",
        "colab": {
          "base_uri": "https://localhost:8080/",
          "height": 1287
        }
      },
      "cell_type": "code",
      "source": [
        "import time\n",
        "import numpy as np\n",
        "url = \"https://www.amazon.in/gp/product/B0711512BW/ref=s9_acsd_simh_hd_bw_b29Butz_c_x_w?pf_rd_m=A1K21FY43GMZF8&pf_rd_s=merchandised-search-11&pf_rd_r=BR4MYFX4YHB22XF19E3B&pf_rd_t=101&pf_rd_p=53ad12a4-a073-57e4-8256-b5ac54c4c1c1&pf_rd_i=1968093031\"\n",
        "url2 = 'https://www.amazon.in/s/ref=sr_pg_3?rh=n%3A1571271031%2Cn%3A%211571272031%2Cn%3A1968024031%2Cn%3A1968093031'\n",
        "urls = []\n",
        "product_urls = []\n",
        "count=0\n",
        "start_i, start_j = np.load('start.npy')\n",
        "chrome_options = webdriver.ChromeOptions()\n",
        "chrome_options.add_argument('--headless')\n",
        "chrome_options.add_argument('--no-sandbox')\n",
        "chrome_options.add_argument('--disable-dev-shm-usage')\n",
        "#chrome_options.add_argument('user-agent='+str(agents[random.randrange(len(agents))]))\n",
        "wd_for_search_results = webdriver.Chrome('chromedriver',chrome_options=chrome_options)\n",
        "i = start_i\n",
        "j = start_j\n",
        "flag=False\n",
        "while i < 200:\n",
        "  print('\\ni: '+str(i))\n",
        "  wd_for_search_results.get(url2)\n",
        "  while j < 48:\n",
        "    print('j: '+str(j))\n",
        "    if True:\n",
        "      time.sleep(1)\n",
        "      result = wd_for_search_results.find_element_by_id('result_'+str(j))\n",
        "      all_children_by_xpath = result.find_elements_by_xpath(\".//a[1]\")[0]\n",
        "\n",
        "      #debug_ = first_child = all_children_by_xpath[0]\n",
        "      #debug_ = grand_child = first_child.find_elements_by_xpath(\"./*\")[5]\n",
        "      #debug_ = grand_child2 = grand_child.find_elements_by_xpath(\"./*\")[0]\n",
        "      #debug_ = grand_child3 = grand_child2.find_elements_by_xpath(\"./*\")[0]\n",
        "      grand_child3 = all_children_by_xpath\n",
        "      print( 'Link: ' + str(grand_child3.get_attribute('href')))\n",
        "      getUrlData(grand_child3.get_attribute('href'), count)\n",
        "      count+=1\n",
        "      product_urls.append(grand_child3.get_attribute('href'))\n",
        "     \n",
        "    '''except Exception as e:\n",
        "      print(debug_.get_attribute('innerHTML'))\n",
        "      print(e)\n",
        "      np.save('start.npy', np.array([i, j]))\n",
        "      flag = True\n",
        "      break #Remove this'''\n",
        "    j += 1\n",
        "  i += 1\n",
        "  j=0\n",
        "  if flag:\n",
        "    break\n",
        "    \n",
        "  next_page_element = wd_for_search_results.find_element_by_id('pagnNextLink')\n",
        "  url2 = str(next_page_element.get_attribute('href'))\n",
        "  \n",
        "product_urls = np.array(product_urls)\n",
        "np.save('product_urls.npy', product_urls)"
      ],
      "execution_count": 20,
      "outputs": [
        {
          "output_type": "stream",
          "text": [
            "/usr/local/lib/python3.6/dist-packages/ipykernel_launcher.py:14: DeprecationWarning: use options instead of chrome_options\n",
            "  \n"
          ],
          "name": "stderr"
        },
        {
          "output_type": "stream",
          "text": [
            "\n",
            "i: 0\n",
            "j: 0\n",
            "Link: https://www.amazon.in/gp/slredirect/picassoRedirect.html/ref=pa_sp_atf_browse_apparel_sr_pg1_1?ie=UTF8&adId=A0595699A1LEB3N9HMVA&url=https%3A%2F%2Fwww.amazon.in%2FLouis-Philippe-Classic-Geometric-LPSF517M0060440_Yellow_40%2Fdp%2FB07D44JH8S%2Fref%3Dlp_1968093031_1_1_sspa%2F258-8052184-1190805%3Fs%3Dapparel%26ie%3DUTF8%26qid%3D1552759603%26sr%3D1-1-spons%26psc%3D1&qualifier=1552759603&id=2907932886648246&widgetName=sp_atf_browse\n"
          ],
          "name": "stdout"
        },
        {
          "output_type": "stream",
          "text": [
            "/usr/local/lib/python3.6/dist-packages/ipykernel_launcher.py:16: DeprecationWarning: use options instead of chrome_options\n",
            "  app.launch_new_instance()\n"
          ],
          "name": "stderr"
        },
        {
          "output_type": "stream",
          "text": [
            "j: 1\n",
            "Link: https://www.amazon.in/gp/slredirect/picassoRedirect.html/ref=pa_sp_atf_browse_apparel_sr_pg1_2?ie=UTF8&adId=A05948071PFS3Y241IKQA&url=https%3A%2F%2Fwww.amazon.in%2FLouis-Philippe-Classic-Geometric-LPSF517M0757342_Maroon_42%2Fdp%2FB07D43WVSB%2Fref%3Dlp_1968093031_1_2_sspa%2F258-8052184-1190805%3Fs%3Dapparel%26ie%3DUTF8%26qid%3D1552759603%26sr%3D1-2-spons%26psc%3D1&qualifier=1552759603&id=2907932886648246&widgetName=sp_atf_browse\n"
          ],
          "name": "stdout"
        },
        {
          "output_type": "stream",
          "text": [
            "/usr/local/lib/python3.6/dist-packages/ipykernel_launcher.py:16: DeprecationWarning: use options instead of chrome_options\n",
            "  app.launch_new_instance()\n"
          ],
          "name": "stderr"
        },
        {
          "output_type": "stream",
          "text": [
            "j: 2\n",
            "Link: https://www.amazon.in/gp/slredirect/picassoRedirect.html/ref=pa_sp_atf_browse_apparel_sr_pg1_3?ie=UTF8&adId=A06731541YNBV33KZ7QU1&url=https%3A%2F%2Fwww.amazon.in%2FLouis-Philippe-Formal-Shirt-8907689392834_LPSF517L00185_Blue_42%2Fdp%2FB0743M8G3G%2Fref%3Dlp_1968093031_1_3_sspa%2F258-8052184-1190805%3Fs%3Dapparel%26ie%3DUTF8%26qid%3D1552759603%26sr%3D1-3-spons%26psc%3D1&qualifier=1552759603&id=2907932886648246&widgetName=sp_atf_browse\n"
          ],
          "name": "stdout"
        },
        {
          "output_type": "stream",
          "text": [
            "/usr/local/lib/python3.6/dist-packages/ipykernel_launcher.py:16: DeprecationWarning: use options instead of chrome_options\n",
            "  app.launch_new_instance()\n"
          ],
          "name": "stderr"
        },
        {
          "output_type": "stream",
          "text": [
            "j: 3\n",
            "Link: https://www.amazon.in/IndoPrimo-Cotton-Casual-Sleeves-Medium/dp/B07H1KLR44/ref=lp_1968093031_1_4/258-8052184-1190805?s=apparel&ie=UTF8&qid=1552759603&sr=1-4\n"
          ],
          "name": "stdout"
        },
        {
          "output_type": "stream",
          "text": [
            "/usr/local/lib/python3.6/dist-packages/ipykernel_launcher.py:16: DeprecationWarning: use options instead of chrome_options\n",
            "  app.launch_new_instance()\n"
          ],
          "name": "stderr"
        },
        {
          "output_type": "error",
          "ename": "NoSuchElementException",
          "evalue": "ignored",
          "traceback": [
            "\u001b[0;31m---------------------------------------------------------------------------\u001b[0m",
            "\u001b[0;31mNoSuchElementException\u001b[0m                    Traceback (most recent call last)",
            "\u001b[0;32m<ipython-input-20-2a9a30b762f1>\u001b[0m in \u001b[0;36m<module>\u001b[0;34m()\u001b[0m\n\u001b[1;32m     32\u001b[0m       \u001b[0mgrand_child3\u001b[0m \u001b[0;34m=\u001b[0m \u001b[0mall_children_by_xpath\u001b[0m\u001b[0;34m\u001b[0m\u001b[0;34m\u001b[0m\u001b[0m\n\u001b[1;32m     33\u001b[0m       \u001b[0mprint\u001b[0m\u001b[0;34m(\u001b[0m \u001b[0;34m'Link: '\u001b[0m \u001b[0;34m+\u001b[0m \u001b[0mstr\u001b[0m\u001b[0;34m(\u001b[0m\u001b[0mgrand_child3\u001b[0m\u001b[0;34m.\u001b[0m\u001b[0mget_attribute\u001b[0m\u001b[0;34m(\u001b[0m\u001b[0;34m'href'\u001b[0m\u001b[0;34m)\u001b[0m\u001b[0;34m)\u001b[0m\u001b[0;34m)\u001b[0m\u001b[0;34m\u001b[0m\u001b[0;34m\u001b[0m\u001b[0m\n\u001b[0;32m---> 34\u001b[0;31m       \u001b[0mgetUrlData\u001b[0m\u001b[0;34m(\u001b[0m\u001b[0mgrand_child3\u001b[0m\u001b[0;34m.\u001b[0m\u001b[0mget_attribute\u001b[0m\u001b[0;34m(\u001b[0m\u001b[0;34m'href'\u001b[0m\u001b[0;34m)\u001b[0m\u001b[0;34m,\u001b[0m \u001b[0mcount\u001b[0m\u001b[0;34m)\u001b[0m\u001b[0;34m\u001b[0m\u001b[0;34m\u001b[0m\u001b[0m\n\u001b[0m\u001b[1;32m     35\u001b[0m       \u001b[0mcount\u001b[0m\u001b[0;34m+=\u001b[0m\u001b[0;36m1\u001b[0m\u001b[0;34m\u001b[0m\u001b[0;34m\u001b[0m\u001b[0m\n\u001b[1;32m     36\u001b[0m       \u001b[0mproduct_urls\u001b[0m\u001b[0;34m.\u001b[0m\u001b[0mappend\u001b[0m\u001b[0;34m(\u001b[0m\u001b[0mgrand_child3\u001b[0m\u001b[0;34m.\u001b[0m\u001b[0mget_attribute\u001b[0m\u001b[0;34m(\u001b[0m\u001b[0;34m'href'\u001b[0m\u001b[0;34m)\u001b[0m\u001b[0;34m)\u001b[0m\u001b[0;34m\u001b[0m\u001b[0;34m\u001b[0m\u001b[0m\n",
            "\u001b[0;32m<ipython-input-19-a8291342c1a6>\u001b[0m in \u001b[0;36mgetUrlData\u001b[0;34m(product_url, count)\u001b[0m\n\u001b[1;32m     27\u001b[0m   \u001b[0;31m#product_price\u001b[0m\u001b[0;34m\u001b[0m\u001b[0;34m\u001b[0m\u001b[0;34m\u001b[0m\u001b[0m\n\u001b[1;32m     28\u001b[0m \u001b[0;34m\u001b[0m\u001b[0m\n\u001b[0;32m---> 29\u001b[0;31m   \u001b[0melement\u001b[0m \u001b[0;34m=\u001b[0m \u001b[0mwd\u001b[0m\u001b[0;34m.\u001b[0m\u001b[0mfind_element_by_id\u001b[0m\u001b[0;34m(\u001b[0m\u001b[0;34m'priceblock_ourprice'\u001b[0m\u001b[0;34m)\u001b[0m\u001b[0;34m\u001b[0m\u001b[0;34m\u001b[0m\u001b[0m\n\u001b[0m\u001b[1;32m     30\u001b[0m   \u001b[0mproduct_price\u001b[0m \u001b[0;34m=\u001b[0m \u001b[0melement\u001b[0m\u001b[0;34m.\u001b[0m\u001b[0mtext\u001b[0m\u001b[0;34m.\u001b[0m\u001b[0msplit\u001b[0m\u001b[0;34m(\u001b[0m\u001b[0;34m)\u001b[0m\u001b[0;34m[\u001b[0m\u001b[0;36m0\u001b[0m\u001b[0;34m]\u001b[0m\u001b[0;34m\u001b[0m\u001b[0;34m\u001b[0m\u001b[0m\n\u001b[1;32m     31\u001b[0m \u001b[0;34m\u001b[0m\u001b[0m\n",
            "\u001b[0;32m/usr/local/lib/python3.6/dist-packages/selenium/webdriver/remote/webdriver.py\u001b[0m in \u001b[0;36mfind_element_by_id\u001b[0;34m(self, id_)\u001b[0m\n\u001b[1;32m    358\u001b[0m             \u001b[0melement\u001b[0m \u001b[0;34m=\u001b[0m \u001b[0mdriver\u001b[0m\u001b[0;34m.\u001b[0m\u001b[0mfind_element_by_id\u001b[0m\u001b[0;34m(\u001b[0m\u001b[0;34m'foo'\u001b[0m\u001b[0;34m)\u001b[0m\u001b[0;34m\u001b[0m\u001b[0;34m\u001b[0m\u001b[0m\n\u001b[1;32m    359\u001b[0m         \"\"\"\n\u001b[0;32m--> 360\u001b[0;31m         \u001b[0;32mreturn\u001b[0m \u001b[0mself\u001b[0m\u001b[0;34m.\u001b[0m\u001b[0mfind_element\u001b[0m\u001b[0;34m(\u001b[0m\u001b[0mby\u001b[0m\u001b[0;34m=\u001b[0m\u001b[0mBy\u001b[0m\u001b[0;34m.\u001b[0m\u001b[0mID\u001b[0m\u001b[0;34m,\u001b[0m \u001b[0mvalue\u001b[0m\u001b[0;34m=\u001b[0m\u001b[0mid_\u001b[0m\u001b[0;34m)\u001b[0m\u001b[0;34m\u001b[0m\u001b[0;34m\u001b[0m\u001b[0m\n\u001b[0m\u001b[1;32m    361\u001b[0m \u001b[0;34m\u001b[0m\u001b[0m\n\u001b[1;32m    362\u001b[0m     \u001b[0;32mdef\u001b[0m \u001b[0mfind_elements_by_id\u001b[0m\u001b[0;34m(\u001b[0m\u001b[0mself\u001b[0m\u001b[0;34m,\u001b[0m \u001b[0mid_\u001b[0m\u001b[0;34m)\u001b[0m\u001b[0;34m:\u001b[0m\u001b[0;34m\u001b[0m\u001b[0;34m\u001b[0m\u001b[0m\n",
            "\u001b[0;32m/usr/local/lib/python3.6/dist-packages/selenium/webdriver/remote/webdriver.py\u001b[0m in \u001b[0;36mfind_element\u001b[0;34m(self, by, value)\u001b[0m\n\u001b[1;32m    976\u001b[0m         return self.execute(Command.FIND_ELEMENT, {\n\u001b[1;32m    977\u001b[0m             \u001b[0;34m'using'\u001b[0m\u001b[0;34m:\u001b[0m \u001b[0mby\u001b[0m\u001b[0;34m,\u001b[0m\u001b[0;34m\u001b[0m\u001b[0;34m\u001b[0m\u001b[0m\n\u001b[0;32m--> 978\u001b[0;31m             'value': value})['value']\n\u001b[0m\u001b[1;32m    979\u001b[0m \u001b[0;34m\u001b[0m\u001b[0m\n\u001b[1;32m    980\u001b[0m     \u001b[0;32mdef\u001b[0m \u001b[0mfind_elements\u001b[0m\u001b[0;34m(\u001b[0m\u001b[0mself\u001b[0m\u001b[0;34m,\u001b[0m \u001b[0mby\u001b[0m\u001b[0;34m=\u001b[0m\u001b[0mBy\u001b[0m\u001b[0;34m.\u001b[0m\u001b[0mID\u001b[0m\u001b[0;34m,\u001b[0m \u001b[0mvalue\u001b[0m\u001b[0;34m=\u001b[0m\u001b[0;32mNone\u001b[0m\u001b[0;34m)\u001b[0m\u001b[0;34m:\u001b[0m\u001b[0;34m\u001b[0m\u001b[0;34m\u001b[0m\u001b[0m\n",
            "\u001b[0;32m/usr/local/lib/python3.6/dist-packages/selenium/webdriver/remote/webdriver.py\u001b[0m in \u001b[0;36mexecute\u001b[0;34m(self, driver_command, params)\u001b[0m\n\u001b[1;32m    319\u001b[0m         \u001b[0mresponse\u001b[0m \u001b[0;34m=\u001b[0m \u001b[0mself\u001b[0m\u001b[0;34m.\u001b[0m\u001b[0mcommand_executor\u001b[0m\u001b[0;34m.\u001b[0m\u001b[0mexecute\u001b[0m\u001b[0;34m(\u001b[0m\u001b[0mdriver_command\u001b[0m\u001b[0;34m,\u001b[0m \u001b[0mparams\u001b[0m\u001b[0;34m)\u001b[0m\u001b[0;34m\u001b[0m\u001b[0;34m\u001b[0m\u001b[0m\n\u001b[1;32m    320\u001b[0m         \u001b[0;32mif\u001b[0m \u001b[0mresponse\u001b[0m\u001b[0;34m:\u001b[0m\u001b[0;34m\u001b[0m\u001b[0;34m\u001b[0m\u001b[0m\n\u001b[0;32m--> 321\u001b[0;31m             \u001b[0mself\u001b[0m\u001b[0;34m.\u001b[0m\u001b[0merror_handler\u001b[0m\u001b[0;34m.\u001b[0m\u001b[0mcheck_response\u001b[0m\u001b[0;34m(\u001b[0m\u001b[0mresponse\u001b[0m\u001b[0;34m)\u001b[0m\u001b[0;34m\u001b[0m\u001b[0;34m\u001b[0m\u001b[0m\n\u001b[0m\u001b[1;32m    322\u001b[0m             response['value'] = self._unwrap_value(\n\u001b[1;32m    323\u001b[0m                 response.get('value', None))\n",
            "\u001b[0;32m/usr/local/lib/python3.6/dist-packages/selenium/webdriver/remote/errorhandler.py\u001b[0m in \u001b[0;36mcheck_response\u001b[0;34m(self, response)\u001b[0m\n\u001b[1;32m    240\u001b[0m                 \u001b[0malert_text\u001b[0m \u001b[0;34m=\u001b[0m \u001b[0mvalue\u001b[0m\u001b[0;34m[\u001b[0m\u001b[0;34m'alert'\u001b[0m\u001b[0;34m]\u001b[0m\u001b[0;34m.\u001b[0m\u001b[0mget\u001b[0m\u001b[0;34m(\u001b[0m\u001b[0;34m'text'\u001b[0m\u001b[0;34m)\u001b[0m\u001b[0;34m\u001b[0m\u001b[0;34m\u001b[0m\u001b[0m\n\u001b[1;32m    241\u001b[0m             \u001b[0;32mraise\u001b[0m \u001b[0mexception_class\u001b[0m\u001b[0;34m(\u001b[0m\u001b[0mmessage\u001b[0m\u001b[0;34m,\u001b[0m \u001b[0mscreen\u001b[0m\u001b[0;34m,\u001b[0m \u001b[0mstacktrace\u001b[0m\u001b[0;34m,\u001b[0m \u001b[0malert_text\u001b[0m\u001b[0;34m)\u001b[0m\u001b[0;34m\u001b[0m\u001b[0;34m\u001b[0m\u001b[0m\n\u001b[0;32m--> 242\u001b[0;31m         \u001b[0;32mraise\u001b[0m \u001b[0mexception_class\u001b[0m\u001b[0;34m(\u001b[0m\u001b[0mmessage\u001b[0m\u001b[0;34m,\u001b[0m \u001b[0mscreen\u001b[0m\u001b[0;34m,\u001b[0m \u001b[0mstacktrace\u001b[0m\u001b[0;34m)\u001b[0m\u001b[0;34m\u001b[0m\u001b[0;34m\u001b[0m\u001b[0m\n\u001b[0m\u001b[1;32m    243\u001b[0m \u001b[0;34m\u001b[0m\u001b[0m\n\u001b[1;32m    244\u001b[0m     \u001b[0;32mdef\u001b[0m \u001b[0m_value_or_default\u001b[0m\u001b[0;34m(\u001b[0m\u001b[0mself\u001b[0m\u001b[0;34m,\u001b[0m \u001b[0mobj\u001b[0m\u001b[0;34m,\u001b[0m \u001b[0mkey\u001b[0m\u001b[0;34m,\u001b[0m \u001b[0mdefault\u001b[0m\u001b[0;34m)\u001b[0m\u001b[0;34m:\u001b[0m\u001b[0;34m\u001b[0m\u001b[0;34m\u001b[0m\u001b[0m\n",
            "\u001b[0;31mNoSuchElementException\u001b[0m: Message: no such element: Unable to locate element: {\"method\":\"id\",\"selector\":\"priceblock_ourprice\"}\n  (Session info: headless chrome=72.0.3626.121)\n  (Driver info: chromedriver=72.0.3626.121,platform=Linux 4.14.79+ x86_64)\n"
          ]
        }
      ]
    },
    {
      "metadata": {
        "id": "QCDqKPT6ekaf",
        "colab_type": "code",
        "colab": {}
      },
      "cell_type": "code",
      "source": [
        "import numpy as np\n",
        "s = np.array([0,0])\n",
        "np.save('start.npy', s)"
      ],
      "execution_count": 0,
      "outputs": []
    }
  ]
}